{
 "cells": [
  {
   "cell_type": "code",
   "execution_count": 1,
   "metadata": {},
   "outputs": [],
   "source": [
    "from bs4 import BeautifulSoup\n",
    "import requests\n",
    "import pandas as pd\n",
    "import re\n",
    "from config import *\n",
    "import requests\n",
    "import pandas as pd\n",
    "import sys\n",
    "import spotipy\n",
    "import json\n",
    "from spotipy.oauth2 import SpotifyClientCredentials\n",
    "import sys\n",
    "sys.path.insert(1, '/content/drive/MyDrive/Credentials/')\n",
    "from config import *\n",
    "sp = spotipy.Spotify(auth_manager=SpotifyClientCredentials(client_id= Client_ID,\n",
    "                                                           client_secret= Client_Secret))\n",
    "from  time import sleep\n",
    "from numpy import random\n",
    "import numpy as np\n",
    "from sklearn import datasets\n",
    "from sklearn.preprocessing import StandardScaler\n",
    "from sklearn.cluster import KMeans\n",
    "from sklearn.metrics import silhouette_score\n",
    "from numpy import random"
   ]
  },
  {
   "cell_type": "markdown",
   "metadata": {},
   "source": [
    "Getting Song Databases"
   ]
  },
  {
   "cell_type": "markdown",
   "metadata": {},
   "source": [
    "Getting Billboard top 100 list"
   ]
  },
  {
   "cell_type": "code",
   "execution_count": 2,
   "metadata": {},
   "outputs": [],
   "source": [
    "url = \"https://www.billboard.com/charts/hot-100\"\n",
    "response = requests.get(url)\n",
    "response.status_code # 200 status code means OK!\n",
    "soup = BeautifulSoup(response.content, \"html.parser\")"
   ]
  },
  {
   "cell_type": "code",
   "execution_count": 3,
   "metadata": {},
   "outputs": [],
   "source": [
    "song = []\n",
    "artist = []\n",
    "num_iter = len(soup.select(\"ol li\"))\n",
    "\n",
    "# iterate through the result set and retrive all the data\n",
    "for i in range(num_iter):\n",
    "    song.append(soup.select(\".chart-element__information__song\")[i].get_text())\n",
    "    artist.append(soup.select(\".chart-element__information__artist\")[i].get_text())\n",
    "    "
   ]
  },
  {
   "cell_type": "code",
   "execution_count": 4,
   "metadata": {},
   "outputs": [],
   "source": [
    "billboard = pd.DataFrame({\n",
    "                       \"artist\":artist,\n",
    "                        \"song\":song\n",
    "                     \n",
    "                      })\n",
    "\n"
   ]
  },
  {
   "cell_type": "markdown",
   "metadata": {},
   "source": [
    "Getting Triple J Hot Lists"
   ]
  },
  {
   "cell_type": "code",
   "execution_count": 5,
   "metadata": {},
   "outputs": [],
   "source": [
    "url ='https://en.wikipedia.org/wiki/Triple_J_Hottest_100'\n",
    "response = requests.get(url)\n",
    "response.status_code # 200 status code means OK!\n",
    "soup = BeautifulSoup(response.content, \"html.parser\")\n"
   ]
  },
  {
   "cell_type": "code",
   "execution_count": 6,
   "metadata": {},
   "outputs": [],
   "source": [
    "num_iter = len(soup.select(\"tbody > tr >td >ol >li:nth-child(1)\"))\n",
    "song=[]\n",
    "artist=[]\n",
    "chart=[]\n",
    "# iterate through the result set and retrive all the data\n",
    "for i in range(num_iter):\n",
    "        song.append(soup.select(\"tbody > tr >td >ol >li:nth-child(1)\")[i].get_text())\n",
    "        song.append(soup.select(\"tbody > tr >td >ol >li:nth-child(2)\")[i].get_text())\n",
    "        song.append(soup.select(\"tbody > tr >td >ol >li:nth-child(3)\")[i].get_text())\n",
    "        song.append(soup.select(\"tbody > tr >td >ol >li:nth-child(4)\")[i].get_text())\n",
    "        song.append(soup.select(\"tbody > tr >td >ol >li:nth-child(5)\")[i].get_text())\n",
    "        song.append(soup.select(\"tbody > tr >td >ol >li:nth-child(6)\")[i].get_text())\n",
    "        song.append(soup.select(\"tbody > tr >td >ol >li:nth-child(7)\")[i].get_text())\n",
    "        song.append(soup.select(\"tbody > tr >td >ol >li:nth-child(8)\")[i].get_text())\n",
    "        song.append(soup.select(\"tbody > tr >td >ol >li:nth-child(9)\")[i].get_text())\n",
    "        song.append(soup.select(\"tbody > tr >td >ol >li:nth-child(10)\")[i].get_text())\n",
    "     \n",
    "    \n",
    "    #artist.append(soup.select(\"tbody > tr >td >ol >li>a:nth-child(1)\")[i].get_text())\n",
    "    #song.append(soup.select(\"tbody > tr >td >ol >li>a:nth-child(2)\")[i].get_text())"
   ]
  },
  {
   "cell_type": "code",
   "execution_count": 7,
   "metadata": {},
   "outputs": [],
   "source": [
    "num_iter2 = len(soup.select((\"tbody > tr >td >b>a\")))\n",
    "for i in range(num_iter2):\n",
    "\n",
    "        chart.append(soup.select(\"tbody > tr >td >b>a\")[i].get_text())\n",
    "        chart.append(soup.select(\"tbody > tr >td >b>a\")[i].get_text())\n",
    "        chart.append(soup.select(\"tbody > tr >td >b>a\")[i].get_text())\n",
    "        chart.append(soup.select(\"tbody > tr >td >b>a\")[i].get_text())\n",
    "        chart.append(soup.select(\"tbody > tr >td >b>a\")[i].get_text())\n",
    "        chart.append(soup.select(\"tbody > tr >td >b>a\")[i].get_text())\n",
    "        chart.append(soup.select(\"tbody > tr >td >b>a\")[i].get_text())\n",
    "        chart.append(soup.select(\"tbody > tr >td >b>a\")[i].get_text())\n",
    "        chart.append(soup.select(\"tbody > tr >td >b>a\")[i].get_text())\n",
    "        chart.append(soup.select(\"tbody > tr >td >b>a\")[i].get_text())\n",
    "    "
   ]
  },
  {
   "cell_type": "code",
   "execution_count": 8,
   "metadata": {},
   "outputs": [],
   "source": [
    "triplej_lists = pd.DataFrame({\n",
    "                       \"song\":song,\n",
    "                        \"chart\":chart,\n",
    "                      \n",
    "                     \n",
    "                      })\n",
    "\n"
   ]
  },
  {
   "cell_type": "markdown",
   "metadata": {},
   "source": [
    "Getting Rolling Stone 500 greatest songs list"
   ]
  },
  {
   "cell_type": "code",
   "execution_count": 35,
   "metadata": {},
   "outputs": [],
   "source": [
    "\n",
    "url ='https://www.cs.ubc.ca/~davet/music/list/Best9.html'\n",
    "response = requests.get(url)\n",
    "response.status_code # 200 status code means OK!\n",
    "soup = BeautifulSoup(response.content, \"html.parser\")\n"
   ]
  },
  {
   "cell_type": "code",
   "execution_count": null,
   "metadata": {},
   "outputs": [],
   "source": [
    "song = []\n",
    "artist = []\n",
    "num_iter = len(soup.select(\"tr > td:nth-child(3) > a:nth-child(2)\"))\n",
    "\n",
    "# iterate through the result set and retrive all the data\n",
    "for i in range(num_iter):\n",
    "    song.append(soup.select(\"tr> td > a:nth-child(2)\")[i].get_text())\n",
    "    artist.append(soup.select(\"tr >  td:nth-child(4)> a\")[i].get_text())\n",
    "    "
   ]
  },
  {
   "cell_type": "code",
   "execution_count": 11,
   "metadata": {},
   "outputs": [],
   "source": [
    "rollingstone = pd.DataFrame({\n",
    "                       \"song\":artist,\n",
    "                        \"artist\":song,\n",
    "                      \n",
    "                     \n",
    "                      })\n",
    "\n"
   ]
  },
  {
   "cell_type": "code",
   "execution_count": 34,
   "metadata": {},
   "outputs": [
    {
     "data": {
      "text/html": [
       "<div>\n",
       "<style scoped>\n",
       "    .dataframe tbody tr th:only-of-type {\n",
       "        vertical-align: middle;\n",
       "    }\n",
       "\n",
       "    .dataframe tbody tr th {\n",
       "        vertical-align: top;\n",
       "    }\n",
       "\n",
       "    .dataframe thead th {\n",
       "        text-align: right;\n",
       "    }\n",
       "</style>\n",
       "<table border=\"1\" class=\"dataframe\">\n",
       "  <thead>\n",
       "    <tr style=\"text-align: right;\">\n",
       "      <th></th>\n",
       "      <th>song</th>\n",
       "      <th>artist</th>\n",
       "    </tr>\n",
       "  </thead>\n",
       "  <tbody>\n",
       "  </tbody>\n",
       "</table>\n",
       "</div>"
      ],
      "text/plain": [
       "Empty DataFrame\n",
       "Columns: [song, artist]\n",
       "Index: []"
      ]
     },
     "execution_count": 34,
     "metadata": {},
     "output_type": "execute_result"
    }
   ],
   "source": [
    "rollingstone"
   ]
  },
  {
   "cell_type": "markdown",
   "metadata": {},
   "source": [
    "Getting list of Bob Dylan songs"
   ]
  },
  {
   "cell_type": "code",
   "execution_count": 12,
   "metadata": {},
   "outputs": [],
   "source": [
    "\n",
    "\n",
    "\n",
    "dylan = []\n",
    "num_iter = len(soup.select(\"div.details-content.clearfix >ul> li > a\"))\n",
    "url ='https://www.songfacts.com/songs/bob-dylan'\n",
    "response = requests.get(url)\n",
    "response.status_code # 200 status code means OK!\n",
    "soup = BeautifulSoup(response.content, \"html.parser\")\n",
    "\n",
    "# iterate through the result set and retrive all the data\n",
    "for i in range(num_iter):\n",
    "    dylan.append(soup.select(\"div.details-content.clearfix >ul> li > a\")[i].get_text())\n",
    "    "
   ]
  },
  {
   "cell_type": "markdown",
   "metadata": {},
   "source": [
    "getting kaggle song database"
   ]
  },
  {
   "cell_type": "code",
   "execution_count": 13,
   "metadata": {},
   "outputs": [],
   "source": [
    "kaggle = pd.read_csv ('data2.csv')"
   ]
  },
  {
   "cell_type": "markdown",
   "metadata": {},
   "source": [
    "cleaning song dataframes"
   ]
  },
  {
   "cell_type": "code",
   "execution_count": 14,
   "metadata": {},
   "outputs": [],
   "source": [
    "def clean_triplej(df):\n",
    "    df[['artist','song']]=df.song.str.split(\"– \",expand=True,)\n",
    "    for i in range (len(df.song)):\n",
    "        df.song[i]=re.sub('\"',\"\",df.song[i])\n",
    "        df.song[i]=re.sub('(\\d)',\"\",df.song[i])\n",
    "        df.song[i]=re.sub(r'\\([^)]*\\)', '', df.song[i])\n",
    "        df.song[i]=re.sub('  ',\"\",df.song[i])\n",
    "        df.song[i]=df.song[i].strip()\n",
    "    return df\n",
    "clean_triplej=clean_triplej(triplej_lists)\n",
    "    "
   ]
  },
  {
   "cell_type": "code",
   "execution_count": 15,
   "metadata": {},
   "outputs": [],
   "source": [
    "def clean_kaggle(df):\n",
    "    df=df.drop(['explicit', 'id','release_date','year'], axis=1)\n",
    "    df=df.rename(columns={\"name\": \"song\",\"artists\":\"artist\"})\n",
    "    df = df[['artist', 'song', 'danceability', 'energy', 'key', 'loudness', 'mode',\n",
    "       'speechiness', 'acousticness', 'instrumentalness', 'liveness',\n",
    "       'valence', 'tempo']]\n",
    "    return df\n",
    "kaggle=clean_kaggle(kaggle)"
   ]
  },
  {
   "cell_type": "code",
   "execution_count": 16,
   "metadata": {},
   "outputs": [],
   "source": [
    "def get_song_features(song):\n",
    "    x = sp.search(q=song, limit=1) \n",
    "    my_dict=sp.audio_features(x[\"tracks\"][\"items\"][0][\"uri\"])[0]\n",
    "    #my_dict\n",
    "    my_dict_new={ key:[my_dict[key]]for key in list(my_dict.keys())}\n",
    "    return my_dict_new"
   ]
  },
  {
   "cell_type": "code",
   "execution_count": 17,
   "metadata": {},
   "outputs": [],
   "source": [
    "def song_feature(df,song):\n",
    "    song_list=[]\n",
    "    for i in song:\n",
    "        x = get_song_features(i)\n",
    "        song_list.append(x)\n",
    "    df1 = pd.DataFrame(song_list)  \n",
    "    df2=pd.concat([df, df1], axis=1)\n",
    "    return df2"
   ]
  },
  {
   "cell_type": "code",
   "execution_count": 18,
   "metadata": {},
   "outputs": [],
   "source": [
    "def clean_songs(df):\n",
    "    df=df.drop(['type', 'id','uri','track_href','analysis_url','duration_ms','time_signature'], axis=1)\n",
    "    df['danceability'] = [i[0] for i in df['danceability']] \n",
    "    df['energy'] = [i[0] for i in df['energy']] \n",
    "    df['key'] = [i[0] for i in df['key']] \n",
    "    df['loudness'] = [i[0] for i in df['loudness']] \n",
    "    df['mode'] = [i[0] for i in df['mode']] \n",
    "    df['speechiness'] = [i[0] for i in df['speechiness']] \n",
    "    df['instrumentalness'] = [i[0] for i in df['instrumentalness']] \n",
    "    df['liveness'] = [i[0] for i in df['liveness']]\n",
    "    df['valence'] = [i[0] for i in df['valence']]\n",
    "    df['tempo'] = [i[0] for i in df['tempo']]\n",
    "    df['acousticness'] = [i[0] for i in df['acousticness']]\n",
    "    return df"
   ]
  },
  {
   "cell_type": "markdown",
   "metadata": {},
   "source": [
    "Training the model"
   ]
  },
  {
   "cell_type": "code",
   "execution_count": 19,
   "metadata": {},
   "outputs": [],
   "source": [
    "\n",
    "X=kaggle.select_dtypes(np.number)\n",
    "kmeans = KMeans(n_clusters=100, random_state=1234)\n",
    "X_prep = StandardScaler().fit_transform(X)\n",
    "pd.DataFrame(X_prep, columns=X.columns).head()\n",
    "model=kmeans.fit(X_prep)\n",
    "clusters = model.predict(X_prep)\n",
    "kaggle2=kaggle\n",
    "kaggle2[\"cluster\"] = clusters\n",
    "\n"
   ]
  },
  {
   "cell_type": "markdown",
   "metadata": {},
   "source": [
    "function for getting the input song features"
   ]
  },
  {
   "cell_type": "code",
   "execution_count": 20,
   "metadata": {},
   "outputs": [],
   "source": [
    "def reckmeans(df):\n",
    "    Xrec=df.select_dtypes(np.number)\n",
    "    kmeans = KMeans(n_clusters=100, random_state=1234)\n",
    "    X_preprec = StandardScaler().fit_transform(Xrec)\n",
    "    clusters = model.predict(X_preprec)\n",
    "    return clusters"
   ]
  },
  {
   "cell_type": "markdown",
   "metadata": {},
   "source": [
    "recommendation function"
   ]
  },
  {
   "cell_type": "code",
   "execution_count": 30,
   "metadata": {},
   "outputs": [],
   "source": [
    "\n",
    "def song_prototype(song):\n",
    "    for i in billboard['song']:\n",
    "        if i == song:\n",
    "            return print(f\"The song {song} is in the Billboard top 100 list!\\n Recommendation:\", str(random.choice(billboard['song'])), \"from the Billboard top 100\")\n",
    "        else: continue\n",
    "    for i in triplej_lists['song']:\n",
    "        if i == song:\n",
    "        \n",
    "            return print(f\"The song {song} is in the Triple J hot list!\\n Recommendation:\", str(random.choice(triplej_lists['song'])),\"from the Triple J hot list\")\n",
    "        else: continue    \n",
    "    for i in rollingstone['song']:\n",
    "        if i == song:\n",
    "            return print(f\"The song {song} is in the Rolling Stone top 500 songs list!, \\n Recommendation: \", str(random.choice(rollingstone['song'])), \"from the Rolling Stone top 500 songs list\")\n",
    "        else: continue               \n",
    "    try:\n",
    "        rec=get_song_features(song)\n",
    "        rec=pd.DataFrame(rec)\n",
    "        rec=rec.drop(['type', 'id','uri','track_href','analysis_url','duration_ms','time_signature'], axis=1)\n",
    "        recdf=pd.DataFrame(rec)\n",
    "        reccluster=reckmeans(recdf)\n",
    "        finalrec=str(random.choice(kaggle2.loc[kaggle2['cluster'] == reccluster[0], 'song']))\n",
    "        finalartist=kaggle2.loc[kaggle2['song'] == finalrec, 'artist']\n",
    "        print('Based on the song features of the song you entered we reccomend: ',finalrec)\n",
    "        \n",
    "    except:\n",
    "\n",
    "        print('It appears you have entered a invalid song in our databse, have you tried listening to Bob Dylan.\\nWe recommend: ', str(random.choice(dylan)), \"by Bob Dylan\")"
   ]
  },
  {
   "cell_type": "code",
   "execution_count": 33,
   "metadata": {},
   "outputs": [
    {
     "name": "stdout",
     "output_type": "stream",
     "text": [
      "You have chosen: Tangled Up in Blue\n",
      "Based on the song features of the song you entered we reccomend:  Si el Norte Fuera el Sur\n"
     ]
    }
   ],
   "source": [
    "song = input(\"You have chosen: \")\n",
    "song_prototype(song)"
   ]
  },
  {
   "cell_type": "code",
   "execution_count": null,
   "metadata": {},
   "outputs": [],
   "source": []
  }
 ],
 "metadata": {
  "kernelspec": {
   "display_name": "Python 3",
   "language": "python",
   "name": "python3"
  },
  "language_info": {
   "codemirror_mode": {
    "name": "ipython",
    "version": 3
   },
   "file_extension": ".py",
   "mimetype": "text/x-python",
   "name": "python",
   "nbconvert_exporter": "python",
   "pygments_lexer": "ipython3",
   "version": "3.8.5"
  }
 },
 "nbformat": 4,
 "nbformat_minor": 4
}
